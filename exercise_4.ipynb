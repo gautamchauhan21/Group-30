{
 "cells": [
  {
   "cell_type": "markdown",
   "metadata": {},
   "source": [
    "# Exercise Set 4: Data Structuring 1\n",
    "\n",
    "*Afternoon, August 14, 2018*\n",
    "\n",
    "In this Exercise Set we will apply some of the basic things we have learned with pandas."
   ]
  },
  {
   "cell_type": "markdown",
   "metadata": {},
   "source": [
    "#### Load modules\n",
    "We begin by loading relevant packages."
   ]
  },
  {
   "cell_type": "code",
   "execution_count": 3,
   "metadata": {},
   "outputs": [],
   "source": [
    "import numpy as np\n",
    "import pandas as pd"
   ]
  },
  {
   "cell_type": "markdown",
   "metadata": {},
   "source": [
    "##  Exercise Section 4.1: Weather, part 1\n",
    "\n",
    "Some data sources are open and easy to collect data from. They can be 'scraped' as is and they are already in a table format. This Exercise part of exercises is the first part of three that work with weather data, the follow ups are Exercise Sections 6.1 and 7.1. Our source will be National Oceanic and Atmospheric Administration (NOAA) which have a global data collection going back a couple of centuries. This collection is called Global Historical Climatology Network (GHCN). A description of GHCN can be found [here](https://www1.ncdc.noaa.gov/pub/data/ghcn/daily/by_year/readme.txt)."
   ]
  },
  {
   "cell_type": "markdown",
   "metadata": {},
   "source": [
    "\n",
    "> **Ex. 4.1.1:** Use Pandas' CSV reader to fetch  daily data weather from 1864 for various stations - available [here](https://www1.ncdc.noaa.gov/pub/data/ghcn/daily/by_year/). \n",
    "\n",
    "> *Hint 1*: for compressed files you may need to specify the keyword `compression`.\n",
    "\n",
    "> *Hint 2*: keyword `header` can be specified as the CSV has no column names.\n",
    "\n",
    "> *Hint 3*: Specify the path, as the URL linking directly to the 1864 file. "
   ]
  },
  {
   "cell_type": "code",
   "execution_count": 5,
   "metadata": {},
   "outputs": [
    {
     "name": "stdout",
     "output_type": "stream",
     "text": [
      "                 0         1     2    3    4    5  6   7\n",
      "0      ITE00100550  18640101  TMAX   10  NaN  NaN  E NaN\n",
      "1      ITE00100550  18640101  TMIN  -23  NaN  NaN  E NaN\n",
      "2      ITE00100550  18640101  PRCP   25  NaN  NaN  E NaN\n",
      "3      ASN00079028  18640101  PRCP    0  NaN  NaN  a NaN\n",
      "4      USC00064757  18640101  PRCP  119  NaN  NaN  F NaN\n",
      "5      SF000208660  18640101  PRCP    0  NaN  NaN  I NaN\n",
      "6      ASN00089000  18640101  PRCP    0  NaN  NaN  a NaN\n",
      "7      SWE00100003  18640101  PRCP    0  NaN  NaN  E NaN\n",
      "8      ASN00086071  18640101  TMAX  214  NaN  NaN  a NaN\n",
      "9      ASN00086071  18640101  TMIN  101  NaN  NaN  a NaN\n",
      "10     ASN00086071  18640101  PRCP    0  NaN  NaN  a NaN\n",
      "11     USP00CA0003  18640101  PRCP    0  NaN  NaN  F NaN\n",
      "12     USC00189674  18640101  PRCP    0  NaN  NaN  F NaN\n",
      "13     USC00144559  18640101  PRCP    0  NaN  NaN  F NaN\n",
      "14     USC00144559  18640101  SNOW    0  NaN  NaN  F NaN\n",
      "15     CA006158350  18640101  TMAX   11  NaN  NaN  C NaN\n",
      "16     CA006158350  18640101  TMIN -133  NaN  NaN  C NaN\n",
      "17     CA006158350  18640101  PRCP    5  NaN  NaN  C NaN\n",
      "18     CA006158350  18640101  SNOW    5  NaN  NaN  C NaN\n",
      "19     HRE00105189  18640101  PRCP  189  NaN  NaN  E NaN\n",
      "20     ASN00067054  18640101  PRCP   61  NaN  NaN  a NaN\n",
      "21     ASN00081003  18640101  PRCP    0  NaN  NaN  a NaN\n",
      "22     ASN00078037  18640101  PRCP    0  NaN  NaN  a NaN\n",
      "23     ASN00070037  18640101  PRCP    0  NaN  NaN  a NaN\n",
      "24     EIE00101859  18640101  TMAX   94  NaN  NaN  E NaN\n",
      "25     EIE00101859  18640101  TMIN   11  NaN  NaN  E NaN\n",
      "26     EIE00101859  18640101  PRCP   82  NaN  NaN  E NaN\n",
      "27     ASN00040214  18640101  PRCP    3  NaN  NaN  a NaN\n",
      "28     BE000006447  18640101  TMAX  -23  NaN  NaN  I NaN\n",
      "29     BE000006447  18640101  TMIN  -36  NaN  NaN  I NaN\n",
      "...            ...       ...   ...  ...  ...  ... ..  ..\n",
      "27318  ASN00066062  18641231  TMAX  223  NaN  NaN  a NaN\n",
      "27319  ASN00066062  18641231  TMIN  172  NaN  NaN  a NaN\n",
      "27320  ASN00066062  18641231  PRCP   41  NaN  NaN  a NaN\n",
      "27321  ASN00023000  18641231  PRCP    0  NaN  NaN  a NaN\n",
      "27322  SW000010537  18641231  PRCP    0  NaN  NaN  E NaN\n",
      "27323  ASN00022018  18641231  PRCP    0  NaN  NaN  a NaN\n",
      "27324  AU000005901  18641231  TMAX  -28  NaN  NaN  E NaN\n",
      "27325  AU000005901  18641231  TMIN  -79  NaN  NaN  E NaN\n",
      "27326  GM000004204  18641231  TMAX  -34  NaN  NaN  E NaN\n",
      "27327  GM000004204  18641231  TMIN -119  NaN  NaN  E NaN\n",
      "27328  GM000004204  18641231  PRCP    0  NaN  NaN  E NaN\n",
      "27329  ASN00075048  18641231  PRCP    0  NaN  NaN  a NaN\n",
      "27330  UK000047811  18641231  TMAX   40  NaN  NaN  E NaN\n",
      "27331  UK000047811  18641231  TMIN  -14  NaN  NaN  E NaN\n",
      "27332  UK000047811  18641231  PRCP    0  NaN  NaN  E NaN\n",
      "27333  HR000142360  18641231  PRCP    0  NaN  NaN  E NaN\n",
      "27334  ASN00084016  18641231  PRCP   18  NaN  NaN  a NaN\n",
      "27335  ITE00100553  18641231  PRCP    0  NaN  NaN  E NaN\n",
      "27336  ITE00100552  18641231  PRCP    0  NaN  NaN  E NaN\n",
      "27337  ITE00105250  18641231  PRCP    0  NaN  NaN  E NaN\n",
      "27338  USP00CA0001  18641231  PRCP  157  NaN  NaN  F NaN\n",
      "27339  ASN00090015  18641231  TMAX  239  NaN  NaN  a NaN\n",
      "27340  ASN00090015  18641231  TMIN  128  NaN  NaN  a NaN\n",
      "27341  UK000056225  18641231  TMAX   16  NaN  NaN  E NaN\n",
      "27342  UK000056225  18641231  TMIN  -19  NaN  NaN  E NaN\n",
      "27343  UK000056225  18641231  PRCP    3  NaN  NaN  E NaN\n",
      "27344  ASN00026026  18641231  PRCP    0  NaN  NaN  a NaN\n",
      "27345  ASN00089049  18641231  PRCP    0  NaN  NaN  a NaN\n",
      "27346  SZ000006717  18641231  TMAX  -62  NaN  NaN  G NaN\n",
      "27347  SZ000006717  18641231  TMIN -105  NaN  NaN  G NaN\n",
      "\n",
      "[27348 rows x 8 columns]\n"
     ]
    }
   ],
   "source": [
    "# [Answer to Ex. 4.1.1]\n",
    "url = 'https://www1.ncdc.noaa.gov/pub/data/ghcn/daily/by_year/1864.csv.gz'\n",
    "\n",
    "df_weather = pd.read_csv(url,\n",
    "                        compression='gzip',\n",
    "                        header=None)\n",
    "print(df_weather)"
   ]
  },
  {
   "cell_type": "code",
   "execution_count": 2,
   "metadata": {},
   "outputs": [],
   "source": [
    "#url = 'https://www1.ncdc.noaa.gov/pub/data/ghcn/daily/by_year/1864.csv.gz'\n",
    "\n",
    "#df_weather = pd.read_csv(url, \n",
    "#                         compression='gzip', #decompress gzip\n",
    "#                         header=None) #use no header information from the csv"
   ]
  },
  {
   "cell_type": "markdown",
   "metadata": {},
   "source": [
    "\n",
    "> **Ex. 4.1.2:** Structure your weather DataFrame by using only the relevant columns (station identifier, data, observation type, observation value), rename them. Make sure observations are correctly formated (how many decimals should we add? one?).\n",
    "\n",
    "> *Hint:* rename can be done with `df.columns=COLS` where `COLS` is a list of column names.\n"
   ]
  },
  {
   "cell_type": "code",
   "execution_count": 20,
   "metadata": {},
   "outputs": [
    {
     "name": "stdout",
     "output_type": "stream",
     "text": [
      "           station      data obs_type  obs_value\n",
      "0      ITE00100550  18640101     TMAX         10\n",
      "1      ITE00100550  18640101     TMIN        -23\n",
      "2      ITE00100550  18640101     PRCP         25\n",
      "3      ASN00079028  18640101     PRCP          0\n",
      "4      USC00064757  18640101     PRCP        119\n",
      "5      SF000208660  18640101     PRCP          0\n",
      "6      ASN00089000  18640101     PRCP          0\n",
      "7      SWE00100003  18640101     PRCP          0\n",
      "8      ASN00086071  18640101     TMAX        214\n",
      "9      ASN00086071  18640101     TMIN        101\n",
      "10     ASN00086071  18640101     PRCP          0\n",
      "11     USP00CA0003  18640101     PRCP          0\n",
      "12     USC00189674  18640101     PRCP          0\n",
      "13     USC00144559  18640101     PRCP          0\n",
      "14     USC00144559  18640101     SNOW          0\n",
      "15     CA006158350  18640101     TMAX         11\n",
      "16     CA006158350  18640101     TMIN       -133\n",
      "17     CA006158350  18640101     PRCP          5\n",
      "18     CA006158350  18640101     SNOW          5\n",
      "19     HRE00105189  18640101     PRCP        189\n",
      "20     ASN00067054  18640101     PRCP         61\n",
      "21     ASN00081003  18640101     PRCP          0\n",
      "22     ASN00078037  18640101     PRCP          0\n",
      "23     ASN00070037  18640101     PRCP          0\n",
      "24     EIE00101859  18640101     TMAX         94\n",
      "25     EIE00101859  18640101     TMIN         11\n",
      "26     EIE00101859  18640101     PRCP         82\n",
      "27     ASN00040214  18640101     PRCP          3\n",
      "28     BE000006447  18640101     TMAX        -23\n",
      "29     BE000006447  18640101     TMIN        -36\n",
      "...            ...       ...      ...        ...\n",
      "27318  ASN00066062  18641231     TMAX        223\n",
      "27319  ASN00066062  18641231     TMIN        172\n",
      "27320  ASN00066062  18641231     PRCP         41\n",
      "27321  ASN00023000  18641231     PRCP          0\n",
      "27322  SW000010537  18641231     PRCP          0\n",
      "27323  ASN00022018  18641231     PRCP          0\n",
      "27324  AU000005901  18641231     TMAX        -28\n",
      "27325  AU000005901  18641231     TMIN        -79\n",
      "27326  GM000004204  18641231     TMAX        -34\n",
      "27327  GM000004204  18641231     TMIN       -119\n",
      "27328  GM000004204  18641231     PRCP          0\n",
      "27329  ASN00075048  18641231     PRCP          0\n",
      "27330  UK000047811  18641231     TMAX         40\n",
      "27331  UK000047811  18641231     TMIN        -14\n",
      "27332  UK000047811  18641231     PRCP          0\n",
      "27333  HR000142360  18641231     PRCP          0\n",
      "27334  ASN00084016  18641231     PRCP         18\n",
      "27335  ITE00100553  18641231     PRCP          0\n",
      "27336  ITE00100552  18641231     PRCP          0\n",
      "27337  ITE00105250  18641231     PRCP          0\n",
      "27338  USP00CA0001  18641231     PRCP        157\n",
      "27339  ASN00090015  18641231     TMAX        239\n",
      "27340  ASN00090015  18641231     TMIN        128\n",
      "27341  UK000056225  18641231     TMAX         16\n",
      "27342  UK000056225  18641231     TMIN        -19\n",
      "27343  UK000056225  18641231     PRCP          3\n",
      "27344  ASN00026026  18641231     PRCP          0\n",
      "27345  ASN00089049  18641231     PRCP          0\n",
      "27346  SZ000006717  18641231     TMAX        -62\n",
      "27347  SZ000006717  18641231     TMIN       -105\n",
      "\n",
      "[27348 rows x 4 columns]\n"
     ]
    }
   ],
   "source": [
    "# [Answer to Ex. 4.1.2]\n",
    "df_weather2 = df_weather.iloc[:,:4]\n",
    "#print(df_weather2)\n",
    "columns_name = ['station', 'data', 'obs_type', 'obs_value']\n",
    "df_weather2.columns = columns_name\n",
    "print(df_weather2)\n",
    "#df_weather2['Value'] = df_weather2['Value'] / 10 \n"
   ]
  },
  {
   "cell_type": "code",
   "execution_count": 4,
   "metadata": {},
   "outputs": [],
   "source": [
    "#df_weather = df_weather.iloc[:,:4] # select only first four columns\n",
    "\n",
    "#column_names = ['station', 'datetime', 'obs_type', 'obs_value']\n",
    "#df_weather.columns = column_names # set column names\n",
    "\n",
    "#df_weather['obs_value'] = df_weather['obs_value'] / 10 # convert last digit to decimal\n",
    "\n",
    "# DOES NOT WORK FOR SNOW DATA!!"
   ]
  },
  {
   "cell_type": "markdown",
   "metadata": {},
   "source": [
    "\n",
    "> **Ex. 4.1.3:**  Select data for the station `ITE00100550` and only observations for maximal temperature. Make a copy of the DataFrame. Explain in a one or two sentences how copying works.\n",
    "\n",
    "> *Hint 1*: the `&` operator works elementwise on boolean series (like `and` in core python).\n",
    "\n",
    "> *Hint 2*: copying of the dataframe is done with the `copy` method for DataFrames."
   ]
  },
  {
   "cell_type": "code",
   "execution_count": 1,
   "metadata": {},
   "outputs": [
    {
     "ename": "NameError",
     "evalue": "name 'df_weather2' is not defined",
     "output_type": "error",
     "traceback": [
      "\u001b[0;31m---------------------------------------------------------------------------\u001b[0m",
      "\u001b[0;31mNameError\u001b[0m                                 Traceback (most recent call last)",
      "\u001b[0;32m<ipython-input-1-c1744a4124df>\u001b[0m in \u001b[0;36m<module>\u001b[0;34m()\u001b[0m\n\u001b[1;32m      1\u001b[0m \u001b[0;31m# [Answer to Ex. 4.1.3]\u001b[0m\u001b[0;34m\u001b[0m\u001b[0;34m\u001b[0m\u001b[0m\n\u001b[0;32m----> 2\u001b[0;31m \u001b[0mselect_station\u001b[0m \u001b[0;34m=\u001b[0m \u001b[0mdf_weather2\u001b[0m\u001b[0;34m.\u001b[0m\u001b[0mstation\u001b[0m \u001b[0;34m==\u001b[0m \u001b[0;34m'ITE00100550'\u001b[0m\u001b[0;34m\u001b[0m\u001b[0m\n\u001b[0m\u001b[1;32m      3\u001b[0m \u001b[0mselect_max\u001b[0m \u001b[0;34m=\u001b[0m \u001b[0mdf_weather2\u001b[0m\u001b[0;34m.\u001b[0m\u001b[0mobs_type\u001b[0m \u001b[0;34m==\u001b[0m \u001b[0;34m'TMAX'\u001b[0m\u001b[0;34m\u001b[0m\u001b[0m\n\u001b[1;32m      4\u001b[0m \u001b[0mselect_row\u001b[0m \u001b[0;34m=\u001b[0m \u001b[0mselect_station\u001b[0m \u001b[0;34m&\u001b[0m \u001b[0mselect_max\u001b[0m\u001b[0;34m\u001b[0m\u001b[0m\n\u001b[1;32m      5\u001b[0m \u001b[0mdf_select\u001b[0m \u001b[0;34m=\u001b[0m \u001b[0mdf_weather2\u001b[0m\u001b[0;34m[\u001b[0m\u001b[0mselect_row\u001b[0m\u001b[0;34m]\u001b[0m\u001b[0;34m.\u001b[0m\u001b[0mcopy\u001b[0m\u001b[0;34m(\u001b[0m\u001b[0;34m)\u001b[0m\u001b[0;34m\u001b[0m\u001b[0m\n",
      "\u001b[0;31mNameError\u001b[0m: name 'df_weather2' is not defined"
     ]
    }
   ],
   "source": [
    "# [Answer to Ex. 4.1.3]\n",
    "select_station = df_weather2.station == 'ITE00100550'\n",
    "select_max = df_weather2.obs_type == 'TMAX'\n",
    "select_row = select_station & select_max\n",
    "df_select = df_weather2[select_row].copy()\n",
    "print(df_select.head(10))\n",
    "\n",
    "\n"
   ]
  },
  {
   "cell_type": "code",
   "execution_count": 13,
   "metadata": {},
   "outputs": [],
   "source": [
    "#select_stat = df_weather.station == 'ITE00100550' # boolean: first weather station\n",
    "#select_tmax = df_weather.obs_type == 'TMAX' # boolean: maximal temp.\n",
    "\n",
    "#select_rows = select_stat & select_tmax # row selection - require both conditions\n",
    "\n",
    "#df_select = df_weather[select_rows].copy() # apply selection and copy\n",
    "\n",
    "# Copying of the dataframe breaks the dependency with original \n",
    "# DataFrame `df_weather`. If dependency is not broken then changing values \n",
    "# in one of the two dataframes would imply changes in the other."
   ]
  },
  {
   "cell_type": "markdown",
   "metadata": {},
   "source": [
    "> **Ex. 4.1.4:** Make a new column called `TMAX_F` where you have converted the temperature variables to Fahrenheit. \n",
    "\n",
    "> *Hint*: Conversion is $F = 32 + 1.8*C$ where $F$ is Fahrenheit and $C$ is Celsius."
   ]
  },
  {
   "cell_type": "code",
   "execution_count": 27,
   "metadata": {},
   "outputs": [
    {
     "data": {
      "text/html": [
       "<div>\n",
       "<style scoped>\n",
       "    .dataframe tbody tr th:only-of-type {\n",
       "        vertical-align: middle;\n",
       "    }\n",
       "\n",
       "    .dataframe tbody tr th {\n",
       "        vertical-align: top;\n",
       "    }\n",
       "\n",
       "    .dataframe thead th {\n",
       "        text-align: right;\n",
       "    }\n",
       "</style>\n",
       "<table border=\"1\" class=\"dataframe\">\n",
       "  <thead>\n",
       "    <tr style=\"text-align: right;\">\n",
       "      <th></th>\n",
       "      <th>station</th>\n",
       "      <th>data</th>\n",
       "      <th>obs_type</th>\n",
       "      <th>obs_value</th>\n",
       "      <th>TMAX_F</th>\n",
       "    </tr>\n",
       "  </thead>\n",
       "  <tbody>\n",
       "    <tr>\n",
       "      <th>0</th>\n",
       "      <td>ITE00100550</td>\n",
       "      <td>18640101</td>\n",
       "      <td>TMAX</td>\n",
       "      <td>10</td>\n",
       "      <td>50.0</td>\n",
       "    </tr>\n",
       "    <tr>\n",
       "      <th>75</th>\n",
       "      <td>ITE00100550</td>\n",
       "      <td>18640102</td>\n",
       "      <td>TMAX</td>\n",
       "      <td>8</td>\n",
       "      <td>46.4</td>\n",
       "    </tr>\n",
       "    <tr>\n",
       "      <th>152</th>\n",
       "      <td>ITE00100550</td>\n",
       "      <td>18640103</td>\n",
       "      <td>TMAX</td>\n",
       "      <td>-28</td>\n",
       "      <td>-18.4</td>\n",
       "    </tr>\n",
       "    <tr>\n",
       "      <th>227</th>\n",
       "      <td>ITE00100550</td>\n",
       "      <td>18640104</td>\n",
       "      <td>TMAX</td>\n",
       "      <td>0</td>\n",
       "      <td>32.0</td>\n",
       "    </tr>\n",
       "    <tr>\n",
       "      <th>305</th>\n",
       "      <td>ITE00100550</td>\n",
       "      <td>18640105</td>\n",
       "      <td>TMAX</td>\n",
       "      <td>-19</td>\n",
       "      <td>-2.2</td>\n",
       "    </tr>\n",
       "    <tr>\n",
       "      <th>383</th>\n",
       "      <td>ITE00100550</td>\n",
       "      <td>18640106</td>\n",
       "      <td>TMAX</td>\n",
       "      <td>-13</td>\n",
       "      <td>8.6</td>\n",
       "    </tr>\n",
       "    <tr>\n",
       "      <th>460</th>\n",
       "      <td>ITE00100550</td>\n",
       "      <td>18640107</td>\n",
       "      <td>TMAX</td>\n",
       "      <td>-4</td>\n",
       "      <td>24.8</td>\n",
       "    </tr>\n",
       "    <tr>\n",
       "      <th>538</th>\n",
       "      <td>ITE00100550</td>\n",
       "      <td>18640108</td>\n",
       "      <td>TMAX</td>\n",
       "      <td>13</td>\n",
       "      <td>55.4</td>\n",
       "    </tr>\n",
       "    <tr>\n",
       "      <th>618</th>\n",
       "      <td>ITE00100550</td>\n",
       "      <td>18640109</td>\n",
       "      <td>TMAX</td>\n",
       "      <td>13</td>\n",
       "      <td>55.4</td>\n",
       "    </tr>\n",
       "    <tr>\n",
       "      <th>695</th>\n",
       "      <td>ITE00100550</td>\n",
       "      <td>18640110</td>\n",
       "      <td>TMAX</td>\n",
       "      <td>6</td>\n",
       "      <td>42.8</td>\n",
       "    </tr>\n",
       "  </tbody>\n",
       "</table>\n",
       "</div>"
      ],
      "text/plain": [
       "         station      data obs_type  obs_value  TMAX_F\n",
       "0    ITE00100550  18640101     TMAX         10    50.0\n",
       "75   ITE00100550  18640102     TMAX          8    46.4\n",
       "152  ITE00100550  18640103     TMAX        -28   -18.4\n",
       "227  ITE00100550  18640104     TMAX          0    32.0\n",
       "305  ITE00100550  18640105     TMAX        -19    -2.2\n",
       "383  ITE00100550  18640106     TMAX        -13     8.6\n",
       "460  ITE00100550  18640107     TMAX         -4    24.8\n",
       "538  ITE00100550  18640108     TMAX         13    55.4\n",
       "618  ITE00100550  18640109     TMAX         13    55.4\n",
       "695  ITE00100550  18640110     TMAX          6    42.8"
      ]
     },
     "execution_count": 27,
     "metadata": {},
     "output_type": "execute_result"
    }
   ],
   "source": [
    "# [Answer to Ex. 4.1.4]\n",
    "\n",
    "df_select['TMAX_F'] = 32 + 1.8 * df_select['obs_value']\n",
    "df_select.head(10)\n",
    "\n",
    "\n",
    "\n"
   ]
  },
  {
   "cell_type": "code",
   "execution_count": 11,
   "metadata": {},
   "outputs": [],
   "source": [
    "#df_select['TMAX_F'] = 32 + 1.8 * df_select['obs_value']"
   ]
  },
  {
   "cell_type": "code",
   "execution_count": 12,
   "metadata": {},
   "outputs": [
    {
     "data": {
      "text/html": [
       "<div>\n",
       "<style>\n",
       "    .dataframe thead tr:only-child th {\n",
       "        text-align: right;\n",
       "    }\n",
       "\n",
       "    .dataframe thead th {\n",
       "        text-align: left;\n",
       "    }\n",
       "\n",
       "    .dataframe tbody tr th {\n",
       "        vertical-align: top;\n",
       "    }\n",
       "</style>\n",
       "<table border=\"1\" class=\"dataframe\">\n",
       "  <thead>\n",
       "    <tr style=\"text-align: right;\">\n",
       "      <th></th>\n",
       "      <th>station</th>\n",
       "      <th>datetime</th>\n",
       "      <th>obs_type</th>\n",
       "      <th>obs_value</th>\n",
       "      <th>TMAX_F</th>\n",
       "    </tr>\n",
       "  </thead>\n",
       "  <tbody>\n",
       "    <tr>\n",
       "      <th>0</th>\n",
       "      <td>ITE00100550</td>\n",
       "      <td>18640101</td>\n",
       "      <td>TMAX</td>\n",
       "      <td>1.0</td>\n",
       "      <td>33.80</td>\n",
       "    </tr>\n",
       "    <tr>\n",
       "      <th>75</th>\n",
       "      <td>ITE00100550</td>\n",
       "      <td>18640102</td>\n",
       "      <td>TMAX</td>\n",
       "      <td>0.8</td>\n",
       "      <td>33.44</td>\n",
       "    </tr>\n",
       "    <tr>\n",
       "      <th>152</th>\n",
       "      <td>ITE00100550</td>\n",
       "      <td>18640103</td>\n",
       "      <td>TMAX</td>\n",
       "      <td>-2.8</td>\n",
       "      <td>26.96</td>\n",
       "    </tr>\n",
       "    <tr>\n",
       "      <th>227</th>\n",
       "      <td>ITE00100550</td>\n",
       "      <td>18640104</td>\n",
       "      <td>TMAX</td>\n",
       "      <td>0.0</td>\n",
       "      <td>32.00</td>\n",
       "    </tr>\n",
       "    <tr>\n",
       "      <th>305</th>\n",
       "      <td>ITE00100550</td>\n",
       "      <td>18640105</td>\n",
       "      <td>TMAX</td>\n",
       "      <td>-1.9</td>\n",
       "      <td>28.58</td>\n",
       "    </tr>\n",
       "  </tbody>\n",
       "</table>\n",
       "</div>"
      ],
      "text/plain": [
       "         station  datetime obs_type  obs_value  TMAX_F\n",
       "0    ITE00100550  18640101     TMAX        1.0   33.80\n",
       "75   ITE00100550  18640102     TMAX        0.8   33.44\n",
       "152  ITE00100550  18640103     TMAX       -2.8   26.96\n",
       "227  ITE00100550  18640104     TMAX        0.0   32.00\n",
       "305  ITE00100550  18640105     TMAX       -1.9   28.58"
      ]
     },
     "execution_count": 12,
     "metadata": {},
     "output_type": "execute_result"
    }
   ],
   "source": [
    "#df_select.head()"
   ]
  },
  {
   "cell_type": "markdown",
   "metadata": {},
   "source": [
    "> **Ex 4.1.5:**  Inspect the indices, are they following the sequence of natural numbers, 0,1,2,...? If not, reset the index and make sure to drop the old."
   ]
  },
  {
   "cell_type": "code",
   "execution_count": null,
   "metadata": {},
   "outputs": [],
   "source": [
    "# [Answer to Ex. 4.1.5]"
   ]
  },
  {
   "cell_type": "code",
   "execution_count": 30,
   "metadata": {},
   "outputs": [
    {
     "data": {
      "text/html": [
       "<div>\n",
       "<style scoped>\n",
       "    .dataframe tbody tr th:only-of-type {\n",
       "        vertical-align: middle;\n",
       "    }\n",
       "\n",
       "    .dataframe tbody tr th {\n",
       "        vertical-align: top;\n",
       "    }\n",
       "\n",
       "    .dataframe thead th {\n",
       "        text-align: right;\n",
       "    }\n",
       "</style>\n",
       "<table border=\"1\" class=\"dataframe\">\n",
       "  <thead>\n",
       "    <tr style=\"text-align: right;\">\n",
       "      <th></th>\n",
       "      <th>station</th>\n",
       "      <th>data</th>\n",
       "      <th>obs_type</th>\n",
       "      <th>obs_value</th>\n",
       "      <th>TMAX_F</th>\n",
       "    </tr>\n",
       "  </thead>\n",
       "  <tbody>\n",
       "    <tr>\n",
       "      <th>0</th>\n",
       "      <td>ITE00100550</td>\n",
       "      <td>18640101</td>\n",
       "      <td>TMAX</td>\n",
       "      <td>10</td>\n",
       "      <td>50.0</td>\n",
       "    </tr>\n",
       "    <tr>\n",
       "      <th>1</th>\n",
       "      <td>ITE00100550</td>\n",
       "      <td>18640102</td>\n",
       "      <td>TMAX</td>\n",
       "      <td>8</td>\n",
       "      <td>46.4</td>\n",
       "    </tr>\n",
       "    <tr>\n",
       "      <th>2</th>\n",
       "      <td>ITE00100550</td>\n",
       "      <td>18640103</td>\n",
       "      <td>TMAX</td>\n",
       "      <td>-28</td>\n",
       "      <td>-18.4</td>\n",
       "    </tr>\n",
       "    <tr>\n",
       "      <th>3</th>\n",
       "      <td>ITE00100550</td>\n",
       "      <td>18640104</td>\n",
       "      <td>TMAX</td>\n",
       "      <td>0</td>\n",
       "      <td>32.0</td>\n",
       "    </tr>\n",
       "    <tr>\n",
       "      <th>4</th>\n",
       "      <td>ITE00100550</td>\n",
       "      <td>18640105</td>\n",
       "      <td>TMAX</td>\n",
       "      <td>-19</td>\n",
       "      <td>-2.2</td>\n",
       "    </tr>\n",
       "  </tbody>\n",
       "</table>\n",
       "</div>"
      ],
      "text/plain": [
       "       station      data obs_type  obs_value  TMAX_F\n",
       "0  ITE00100550  18640101     TMAX         10    50.0\n",
       "1  ITE00100550  18640102     TMAX          8    46.4\n",
       "2  ITE00100550  18640103     TMAX        -28   -18.4\n",
       "3  ITE00100550  18640104     TMAX          0    32.0\n",
       "4  ITE00100550  18640105     TMAX        -19    -2.2"
      ]
     },
     "execution_count": 30,
     "metadata": {},
     "output_type": "execute_result"
    }
   ],
   "source": [
    "df_select = df_select.reset_index(drop=True)\n",
    "df_select.head()"
   ]
  },
  {
   "cell_type": "markdown",
   "metadata": {},
   "source": [
    "> **Ex 4.1.6:** Make a new DataFrame where you have sorted by the maximum temperature. What is the date for the first and last observations?"
   ]
  },
  {
   "cell_type": "code",
   "execution_count": 33,
   "metadata": {},
   "outputs": [
    {
     "name": "stdout",
     "output_type": "stream",
     "text": [
      "Minimum temp:  -63 Maximum temp:  348\n"
     ]
    }
   ],
   "source": [
    "# [Answer to Ex. 4.1.6]\n",
    "df_sort = df_select.sort_values(by=['obs_value'])\n",
    "#df_sort.head()\n",
    "print('Minimum temp: ', df_sort['obs_value'].iloc[0], 'Maximum temp: ', df_sort['obs_value'].iloc[-1])"
   ]
  },
  {
   "cell_type": "code",
   "execution_count": 24,
   "metadata": {},
   "outputs": [
    {
     "name": "stdout",
     "output_type": "stream",
     "text": [
      "Min temp:  -6.3 Max temp:  34.8\n"
     ]
    }
   ],
   "source": [
    "#df_sorted = df_select.sort_values(by=['obs_value'])\n",
    "#print(\"Min temp: \", df_sorted['obs_value'].iloc[0] , \"Max temp: \", df_sorted['obs_value'].iloc[-1])"
   ]
  },
  {
   "cell_type": "markdown",
   "metadata": {},
   "source": [
    "> **Ex 4.1.7:** CVS-files: save your DataFrame as a CSV file. what does index argument do?\n",
    "\n",
    "> Try to save the file using a relative path and an absolut path. \n",
    "With a relative you only specify the file name. This will save the file in the folder you are currently working in. With an absolute path, you specify the whole path, which allows you to save the file in a folder of your choice"
   ]
  },
  {
   "cell_type": "code",
   "execution_count": null,
   "metadata": {},
   "outputs": [],
   "source": [
    "# [Answer to Ex. 4.1.7]"
   ]
  },
  {
   "cell_type": "code",
   "execution_count": 34,
   "metadata": {},
   "outputs": [],
   "source": [
    "# Using relativ path\n",
    "df_sort.to_csv('Exercise_4_answers.csv', index=False)\n",
    "# Using absolute path\n",
    "#df_sorted.to_csv('C:/Users/rch690/Downloads/df_sorted.csv', index=False)\n",
    "# The index argument regulates whether or not the index is transfered to the CSV-file. Default is that it is transfered. "
   ]
  },
  {
   "cell_type": "markdown",
   "metadata": {},
   "source": [
    "> (Bonus) **Ex. 4.1.8**: A very compact way of writing code and making list in Python, is called list comprehensions. Depending on what you are doing, list can be more or less efficient that for example vectorized operations using NumPy. \n",
    "\n",
    ">Read about list comprehenseions online, and use it to make a list with the numbers from 0 to a million (10\\*\\*6), and add 3 to each element. Do the same doing NumPy, and time both methods. Which method is faster? \n",
    "\n",
    "> *Hint 1*: Use the `timeit` package for timing each method "
   ]
  },
  {
   "cell_type": "code",
   "execution_count": 40,
   "metadata": {},
   "outputs": [
    {
     "name": "stdout",
     "output_type": "stream",
     "text": [
      "106 ms ± 14.4 ms per loop (mean ± std. dev. of 7 runs, 10 loops each)\n"
     ]
    }
   ],
   "source": [
    "%%timeit\n",
    "[i+3 for i in range(10**6)]\n"
   ]
  },
  {
   "cell_type": "code",
   "execution_count": 45,
   "metadata": {},
   "outputs": [
    {
     "name": "stdout",
     "output_type": "stream",
     "text": [
      "4.14 ms ± 265 µs per loop (mean ± std. dev. of 7 runs, 100 loops each)\n"
     ]
    }
   ],
   "source": [
    "%%timeit\n",
    "np.arange(10**6)+3"
   ]
  }
 ],
 "metadata": {
  "kernelspec": {
   "display_name": "Python 3",
   "language": "python",
   "name": "python3"
  },
  "language_info": {
   "codemirror_mode": {
    "name": "ipython",
    "version": 3
   },
   "file_extension": ".py",
   "mimetype": "text/x-python",
   "name": "python",
   "nbconvert_exporter": "python",
   "pygments_lexer": "ipython3",
   "version": "3.6.5"
  }
 },
 "nbformat": 4,
 "nbformat_minor": 2
}
